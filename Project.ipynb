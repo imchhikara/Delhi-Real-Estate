{
 "cells": [
  {
   "cell_type": "code",
   "execution_count": 1,
   "id": "f6135316",
   "metadata": {},
   "outputs": [],
   "source": [
    "import numpy as np\n",
    "import pandas as pd"
   ]
  },
  {
   "cell_type": "code",
   "execution_count": 2,
   "id": "d7c23607",
   "metadata": {
    "scrolled": true
   },
   "outputs": [
    {
     "data": {
      "text/html": [
       "<div>\n",
       "<style scoped>\n",
       "    .dataframe tbody tr th:only-of-type {\n",
       "        vertical-align: middle;\n",
       "    }\n",
       "\n",
       "    .dataframe tbody tr th {\n",
       "        vertical-align: top;\n",
       "    }\n",
       "\n",
       "    .dataframe thead th {\n",
       "        text-align: right;\n",
       "    }\n",
       "</style>\n",
       "<table border=\"1\" class=\"dataframe\">\n",
       "  <thead>\n",
       "    <tr style=\"text-align: right;\">\n",
       "      <th></th>\n",
       "      <th>Area</th>\n",
       "      <th>BHK</th>\n",
       "      <th>Bathroom</th>\n",
       "      <th>Furnishing</th>\n",
       "      <th>Region</th>\n",
       "      <th>Locality</th>\n",
       "      <th>Parking</th>\n",
       "      <th>Price</th>\n",
       "      <th>Status</th>\n",
       "      <th>Transaction</th>\n",
       "      <th>Type</th>\n",
       "      <th>Per_Sqft</th>\n",
       "    </tr>\n",
       "  </thead>\n",
       "  <tbody>\n",
       "    <tr>\n",
       "      <th>0</th>\n",
       "      <td>1100.0</td>\n",
       "      <td>2</td>\n",
       "      <td>2.0</td>\n",
       "      <td>Unfurnished</td>\n",
       "      <td>Alaknanda</td>\n",
       "      <td>Alaknanda</td>\n",
       "      <td>2.0</td>\n",
       "      <td>15000000</td>\n",
       "      <td>Ready_to_move</td>\n",
       "      <td>Resale</td>\n",
       "      <td>Apartment</td>\n",
       "      <td>12500.0</td>\n",
       "    </tr>\n",
       "    <tr>\n",
       "      <th>1</th>\n",
       "      <td>1200.0</td>\n",
       "      <td>2</td>\n",
       "      <td>2.0</td>\n",
       "      <td>Semi-Furnished</td>\n",
       "      <td>Alaknanda</td>\n",
       "      <td>Alaknanda</td>\n",
       "      <td>2.0</td>\n",
       "      <td>17500000</td>\n",
       "      <td>Ready_to_move</td>\n",
       "      <td>Resale</td>\n",
       "      <td>Apartment</td>\n",
       "      <td>12500.0</td>\n",
       "    </tr>\n",
       "    <tr>\n",
       "      <th>2</th>\n",
       "      <td>1400.0</td>\n",
       "      <td>2</td>\n",
       "      <td>2.0</td>\n",
       "      <td>Semi-Furnished</td>\n",
       "      <td>Alaknanda</td>\n",
       "      <td>Alaknanda</td>\n",
       "      <td>2.0</td>\n",
       "      <td>14000000</td>\n",
       "      <td>Ready_to_move</td>\n",
       "      <td>Resale</td>\n",
       "      <td>Apartment</td>\n",
       "      <td>12500.0</td>\n",
       "    </tr>\n",
       "    <tr>\n",
       "      <th>3</th>\n",
       "      <td>1320.0</td>\n",
       "      <td>3</td>\n",
       "      <td>2.0</td>\n",
       "      <td>Unfurnished</td>\n",
       "      <td>Alaknanda</td>\n",
       "      <td>Alaknanda</td>\n",
       "      <td>2.0</td>\n",
       "      <td>15600000</td>\n",
       "      <td>Ready_to_move</td>\n",
       "      <td>Resale</td>\n",
       "      <td>Apartment</td>\n",
       "      <td>12500.0</td>\n",
       "    </tr>\n",
       "    <tr>\n",
       "      <th>4</th>\n",
       "      <td>1100.0</td>\n",
       "      <td>2</td>\n",
       "      <td>2.0</td>\n",
       "      <td>Unfurnished</td>\n",
       "      <td>Alaknanda</td>\n",
       "      <td>Alaknanda</td>\n",
       "      <td>2.0</td>\n",
       "      <td>15000000</td>\n",
       "      <td>Ready_to_move</td>\n",
       "      <td>Resale</td>\n",
       "      <td>Apartment</td>\n",
       "      <td>12500.0</td>\n",
       "    </tr>\n",
       "  </tbody>\n",
       "</table>\n",
       "</div>"
      ],
      "text/plain": [
       "     Area  BHK  Bathroom      Furnishing     Region   Locality  Parking  \\\n",
       "0  1100.0    2       2.0     Unfurnished  Alaknanda  Alaknanda      2.0   \n",
       "1  1200.0    2       2.0  Semi-Furnished  Alaknanda  Alaknanda      2.0   \n",
       "2  1400.0    2       2.0  Semi-Furnished  Alaknanda  Alaknanda      2.0   \n",
       "3  1320.0    3       2.0     Unfurnished  Alaknanda  Alaknanda      2.0   \n",
       "4  1100.0    2       2.0     Unfurnished  Alaknanda  Alaknanda      2.0   \n",
       "\n",
       "      Price         Status Transaction       Type  Per_Sqft  \n",
       "0  15000000  Ready_to_move      Resale  Apartment   12500.0  \n",
       "1  17500000  Ready_to_move      Resale  Apartment   12500.0  \n",
       "2  14000000  Ready_to_move      Resale  Apartment   12500.0  \n",
       "3  15600000  Ready_to_move      Resale  Apartment   12500.0  \n",
       "4  15000000  Ready_to_move      Resale  Apartment   12500.0  "
      ]
     },
     "execution_count": 2,
     "metadata": {},
     "output_type": "execute_result"
    }
   ],
   "source": [
    "df= pd.read_csv(\"MagicBricks.csv\")\n",
    "df.head()"
   ]
  },
  {
   "cell_type": "code",
   "execution_count": 3,
   "id": "f2af4c0f",
   "metadata": {},
   "outputs": [
    {
     "data": {
      "text/plain": [
       "(1259, 12)"
      ]
     },
     "execution_count": 3,
     "metadata": {},
     "output_type": "execute_result"
    }
   ],
   "source": [
    "df.shape"
   ]
  },
  {
   "cell_type": "code",
   "execution_count": 4,
   "id": "46e12ecb",
   "metadata": {},
   "outputs": [
    {
     "data": {
      "text/plain": [
       "Area             0\n",
       "BHK              0\n",
       "Bathroom         2\n",
       "Furnishing       5\n",
       "Region          39\n",
       "Locality         0\n",
       "Parking         33\n",
       "Price            0\n",
       "Status           0\n",
       "Transaction      0\n",
       "Type             5\n",
       "Per_Sqft       241\n",
       "dtype: int64"
      ]
     },
     "execution_count": 4,
     "metadata": {},
     "output_type": "execute_result"
    }
   ],
   "source": [
    "df.isnull().sum()"
   ]
  },
  {
   "cell_type": "markdown",
   "id": "9f25e19c",
   "metadata": {},
   "source": [
    "##  Location,sqft, BHK, Bathroom, Parking"
   ]
  },
  {
   "cell_type": "code",
   "execution_count": 5,
   "id": "80e5a7bd",
   "metadata": {},
   "outputs": [
    {
     "data": {
      "text/html": [
       "<div>\n",
       "<style scoped>\n",
       "    .dataframe tbody tr th:only-of-type {\n",
       "        vertical-align: middle;\n",
       "    }\n",
       "\n",
       "    .dataframe tbody tr th {\n",
       "        vertical-align: top;\n",
       "    }\n",
       "\n",
       "    .dataframe thead th {\n",
       "        text-align: right;\n",
       "    }\n",
       "</style>\n",
       "<table border=\"1\" class=\"dataframe\">\n",
       "  <thead>\n",
       "    <tr style=\"text-align: right;\">\n",
       "      <th></th>\n",
       "      <th>Area</th>\n",
       "      <th>BHK</th>\n",
       "      <th>Bathroom</th>\n",
       "      <th>Region</th>\n",
       "      <th>Parking</th>\n",
       "      <th>Price</th>\n",
       "      <th>Per_Sqft</th>\n",
       "    </tr>\n",
       "  </thead>\n",
       "  <tbody>\n",
       "    <tr>\n",
       "      <th>0</th>\n",
       "      <td>1100.0</td>\n",
       "      <td>2</td>\n",
       "      <td>2.0</td>\n",
       "      <td>Alaknanda</td>\n",
       "      <td>2.0</td>\n",
       "      <td>15000000</td>\n",
       "      <td>12500.0</td>\n",
       "    </tr>\n",
       "    <tr>\n",
       "      <th>1</th>\n",
       "      <td>1200.0</td>\n",
       "      <td>2</td>\n",
       "      <td>2.0</td>\n",
       "      <td>Alaknanda</td>\n",
       "      <td>2.0</td>\n",
       "      <td>17500000</td>\n",
       "      <td>12500.0</td>\n",
       "    </tr>\n",
       "    <tr>\n",
       "      <th>2</th>\n",
       "      <td>1400.0</td>\n",
       "      <td>2</td>\n",
       "      <td>2.0</td>\n",
       "      <td>Alaknanda</td>\n",
       "      <td>2.0</td>\n",
       "      <td>14000000</td>\n",
       "      <td>12500.0</td>\n",
       "    </tr>\n",
       "    <tr>\n",
       "      <th>3</th>\n",
       "      <td>1320.0</td>\n",
       "      <td>3</td>\n",
       "      <td>2.0</td>\n",
       "      <td>Alaknanda</td>\n",
       "      <td>2.0</td>\n",
       "      <td>15600000</td>\n",
       "      <td>12500.0</td>\n",
       "    </tr>\n",
       "    <tr>\n",
       "      <th>4</th>\n",
       "      <td>1100.0</td>\n",
       "      <td>2</td>\n",
       "      <td>2.0</td>\n",
       "      <td>Alaknanda</td>\n",
       "      <td>2.0</td>\n",
       "      <td>15000000</td>\n",
       "      <td>12500.0</td>\n",
       "    </tr>\n",
       "  </tbody>\n",
       "</table>\n",
       "</div>"
      ],
      "text/plain": [
       "     Area  BHK  Bathroom     Region  Parking     Price  Per_Sqft\n",
       "0  1100.0    2       2.0  Alaknanda      2.0  15000000   12500.0\n",
       "1  1200.0    2       2.0  Alaknanda      2.0  17500000   12500.0\n",
       "2  1400.0    2       2.0  Alaknanda      2.0  14000000   12500.0\n",
       "3  1320.0    3       2.0  Alaknanda      2.0  15600000   12500.0\n",
       "4  1100.0    2       2.0  Alaknanda      2.0  15000000   12500.0"
      ]
     },
     "execution_count": 5,
     "metadata": {},
     "output_type": "execute_result"
    }
   ],
   "source": [
    "data = df.drop(['Furnishing','Status','Transaction','Locality','Type'], axis=1)\n",
    "data.head()"
   ]
  },
  {
   "cell_type": "code",
   "execution_count": 6,
   "id": "241a2847",
   "metadata": {},
   "outputs": [
    {
     "data": {
      "text/plain": [
       "Area          0\n",
       "BHK           0\n",
       "Bathroom      2\n",
       "Region       39\n",
       "Parking      33\n",
       "Price         0\n",
       "Per_Sqft    241\n",
       "dtype: int64"
      ]
     },
     "execution_count": 6,
     "metadata": {},
     "output_type": "execute_result"
    }
   ],
   "source": [
    "data.isnull().sum()"
   ]
  },
  {
   "cell_type": "code",
   "execution_count": 7,
   "id": "ebcf0e6e",
   "metadata": {},
   "outputs": [],
   "source": [
    "data['Per_Sqft'].fillna(df['Price']/df['Area'], inplace = True)"
   ]
  },
  {
   "cell_type": "code",
   "execution_count": 8,
   "id": "3eebfc3f",
   "metadata": {},
   "outputs": [],
   "source": [
    "data = data.dropna()"
   ]
  },
  {
   "cell_type": "code",
   "execution_count": 9,
   "id": "0c9ec88c",
   "metadata": {},
   "outputs": [
    {
     "data": {
      "text/plain": [
       "(1192, 7)"
      ]
     },
     "execution_count": 9,
     "metadata": {},
     "output_type": "execute_result"
    }
   ],
   "source": [
    "data.shape"
   ]
  },
  {
   "cell_type": "markdown",
   "id": "0064227d",
   "metadata": {},
   "source": [
    "#Removing the data which have bathroom more than 4"
   ]
  },
  {
   "cell_type": "code",
   "execution_count": 10,
   "id": "f9df2364",
   "metadata": {},
   "outputs": [
    {
     "data": {
      "text/html": [
       "<div>\n",
       "<style scoped>\n",
       "    .dataframe tbody tr th:only-of-type {\n",
       "        vertical-align: middle;\n",
       "    }\n",
       "\n",
       "    .dataframe tbody tr th {\n",
       "        vertical-align: top;\n",
       "    }\n",
       "\n",
       "    .dataframe thead th {\n",
       "        text-align: right;\n",
       "    }\n",
       "</style>\n",
       "<table border=\"1\" class=\"dataframe\">\n",
       "  <thead>\n",
       "    <tr style=\"text-align: right;\">\n",
       "      <th></th>\n",
       "      <th>Area</th>\n",
       "      <th>BHK</th>\n",
       "      <th>Bathroom</th>\n",
       "      <th>Region</th>\n",
       "      <th>Parking</th>\n",
       "      <th>Price</th>\n",
       "      <th>Per_Sqft</th>\n",
       "    </tr>\n",
       "  </thead>\n",
       "  <tbody>\n",
       "    <tr>\n",
       "      <th>60</th>\n",
       "      <td>1800.0</td>\n",
       "      <td>3</td>\n",
       "      <td>4.0</td>\n",
       "      <td>Chhattarpur</td>\n",
       "      <td>2.0</td>\n",
       "      <td>63000000</td>\n",
       "      <td>35000.000000</td>\n",
       "    </tr>\n",
       "    <tr>\n",
       "      <th>83</th>\n",
       "      <td>1600.0</td>\n",
       "      <td>3</td>\n",
       "      <td>4.0</td>\n",
       "      <td>Chhattarpur</td>\n",
       "      <td>1.0</td>\n",
       "      <td>60000000</td>\n",
       "      <td>4138.000000</td>\n",
       "    </tr>\n",
       "    <tr>\n",
       "      <th>146</th>\n",
       "      <td>1850.0</td>\n",
       "      <td>3</td>\n",
       "      <td>4.0</td>\n",
       "      <td>Dwarka</td>\n",
       "      <td>1.0</td>\n",
       "      <td>24000000</td>\n",
       "      <td>3524.000000</td>\n",
       "    </tr>\n",
       "    <tr>\n",
       "      <th>207</th>\n",
       "      <td>1400.0</td>\n",
       "      <td>2</td>\n",
       "      <td>3.0</td>\n",
       "      <td>Geeta Colony</td>\n",
       "      <td>3.0</td>\n",
       "      <td>28600000</td>\n",
       "      <td>20967.000000</td>\n",
       "    </tr>\n",
       "    <tr>\n",
       "      <th>208</th>\n",
       "      <td>2100.0</td>\n",
       "      <td>3</td>\n",
       "      <td>4.0</td>\n",
       "      <td>Geeta Colony</td>\n",
       "      <td>2.0</td>\n",
       "      <td>34300000</td>\n",
       "      <td>16333.000000</td>\n",
       "    </tr>\n",
       "    <tr>\n",
       "      <th>...</th>\n",
       "      <td>...</td>\n",
       "      <td>...</td>\n",
       "      <td>...</td>\n",
       "      <td>...</td>\n",
       "      <td>...</td>\n",
       "      <td>...</td>\n",
       "      <td>...</td>\n",
       "    </tr>\n",
       "    <tr>\n",
       "      <th>1114</th>\n",
       "      <td>70.0</td>\n",
       "      <td>1</td>\n",
       "      <td>2.0</td>\n",
       "      <td>Shahdara</td>\n",
       "      <td>1.0</td>\n",
       "      <td>4500000</td>\n",
       "      <td>5357.000000</td>\n",
       "    </tr>\n",
       "    <tr>\n",
       "      <th>1123</th>\n",
       "      <td>750.0</td>\n",
       "      <td>1</td>\n",
       "      <td>2.0</td>\n",
       "      <td>Shahdara</td>\n",
       "      <td>1.0</td>\n",
       "      <td>6400000</td>\n",
       "      <td>8533.333333</td>\n",
       "    </tr>\n",
       "    <tr>\n",
       "      <th>1159</th>\n",
       "      <td>650.0</td>\n",
       "      <td>1</td>\n",
       "      <td>2.0</td>\n",
       "      <td>Vasant Kunj</td>\n",
       "      <td>1.0</td>\n",
       "      <td>7400000</td>\n",
       "      <td>15500.000000</td>\n",
       "    </tr>\n",
       "    <tr>\n",
       "      <th>1168</th>\n",
       "      <td>600.0</td>\n",
       "      <td>1</td>\n",
       "      <td>2.0</td>\n",
       "      <td>Vasant Kunj</td>\n",
       "      <td>2.0</td>\n",
       "      <td>7000000</td>\n",
       "      <td>20833.000000</td>\n",
       "    </tr>\n",
       "    <tr>\n",
       "      <th>1188</th>\n",
       "      <td>550.0</td>\n",
       "      <td>1</td>\n",
       "      <td>2.0</td>\n",
       "      <td>Vasant Kunj</td>\n",
       "      <td>1.0</td>\n",
       "      <td>7500000</td>\n",
       "      <td>20833.000000</td>\n",
       "    </tr>\n",
       "  </tbody>\n",
       "</table>\n",
       "<p>88 rows × 7 columns</p>\n",
       "</div>"
      ],
      "text/plain": [
       "        Area  BHK  Bathroom        Region  Parking     Price      Per_Sqft\n",
       "60    1800.0    3       4.0   Chhattarpur      2.0  63000000  35000.000000\n",
       "83    1600.0    3       4.0   Chhattarpur      1.0  60000000   4138.000000\n",
       "146   1850.0    3       4.0        Dwarka      1.0  24000000   3524.000000\n",
       "207   1400.0    2       3.0  Geeta Colony      3.0  28600000  20967.000000\n",
       "208   2100.0    3       4.0  Geeta Colony      2.0  34300000  16333.000000\n",
       "...      ...  ...       ...           ...      ...       ...           ...\n",
       "1114    70.0    1       2.0      Shahdara      1.0   4500000   5357.000000\n",
       "1123   750.0    1       2.0      Shahdara      1.0   6400000   8533.333333\n",
       "1159   650.0    1       2.0   Vasant Kunj      1.0   7400000  15500.000000\n",
       "1168   600.0    1       2.0   Vasant Kunj      2.0   7000000  20833.000000\n",
       "1188   550.0    1       2.0   Vasant Kunj      1.0   7500000  20833.000000\n",
       "\n",
       "[88 rows x 7 columns]"
      ]
     },
     "execution_count": 10,
     "metadata": {},
     "output_type": "execute_result"
    }
   ],
   "source": [
    "data[data.BHK < data.Bathroom]"
   ]
  },
  {
   "cell_type": "code",
   "execution_count": 11,
   "id": "ba64d09e",
   "metadata": {},
   "outputs": [
    {
     "data": {
      "text/plain": [
       "0       1100.0\n",
       "1       1200.0\n",
       "2       1400.0\n",
       "3       1320.0\n",
       "4       1100.0\n",
       "         ...  \n",
       "1214    1459.0\n",
       "1215     780.0\n",
       "1216    1100.0\n",
       "1217    1050.0\n",
       "1218     975.0\n",
       "Name: Area, Length: 1192, dtype: float64"
      ]
     },
     "execution_count": 11,
     "metadata": {},
     "output_type": "execute_result"
    }
   ],
   "source": [
    "round(data.Area)"
   ]
  },
  {
   "cell_type": "code",
   "execution_count": 12,
   "id": "99e2bef2",
   "metadata": {},
   "outputs": [
    {
     "name": "stdout",
     "output_type": "stream",
     "text": [
      "<class 'pandas.core.frame.DataFrame'>\n",
      "Int64Index: 1192 entries, 0 to 1218\n",
      "Data columns (total 7 columns):\n",
      " #   Column    Non-Null Count  Dtype  \n",
      "---  ------    --------------  -----  \n",
      " 0   Area      1192 non-null   float64\n",
      " 1   BHK       1192 non-null   int64  \n",
      " 2   Bathroom  1192 non-null   float64\n",
      " 3   Region    1192 non-null   object \n",
      " 4   Parking   1192 non-null   float64\n",
      " 5   Price     1192 non-null   int64  \n",
      " 6   Per_Sqft  1192 non-null   float64\n",
      "dtypes: float64(4), int64(2), object(1)\n",
      "memory usage: 74.5+ KB\n"
     ]
    }
   ],
   "source": [
    "data.info()"
   ]
  },
  {
   "cell_type": "code",
   "execution_count": 44,
   "id": "73ae14f4",
   "metadata": {},
   "outputs": [
    {
     "data": {
      "text/html": [
       "<div>\n",
       "<style scoped>\n",
       "    .dataframe tbody tr th:only-of-type {\n",
       "        vertical-align: middle;\n",
       "    }\n",
       "\n",
       "    .dataframe tbody tr th {\n",
       "        vertical-align: top;\n",
       "    }\n",
       "\n",
       "    .dataframe thead th {\n",
       "        text-align: right;\n",
       "    }\n",
       "</style>\n",
       "<table border=\"1\" class=\"dataframe\">\n",
       "  <thead>\n",
       "    <tr style=\"text-align: right;\">\n",
       "      <th></th>\n",
       "      <th>Area</th>\n",
       "      <th>BHK</th>\n",
       "      <th>Bathroom</th>\n",
       "      <th>Region</th>\n",
       "      <th>Parking</th>\n",
       "      <th>Price</th>\n",
       "    </tr>\n",
       "  </thead>\n",
       "  <tbody>\n",
       "    <tr>\n",
       "      <th>0</th>\n",
       "      <td>1100.0</td>\n",
       "      <td>2.0</td>\n",
       "      <td>2.0</td>\n",
       "      <td>Alaknanda</td>\n",
       "      <td>2.0</td>\n",
       "      <td>15000000.0</td>\n",
       "    </tr>\n",
       "    <tr>\n",
       "      <th>1</th>\n",
       "      <td>1200.0</td>\n",
       "      <td>2.0</td>\n",
       "      <td>2.0</td>\n",
       "      <td>Alaknanda</td>\n",
       "      <td>2.0</td>\n",
       "      <td>17500000.0</td>\n",
       "    </tr>\n",
       "    <tr>\n",
       "      <th>2</th>\n",
       "      <td>1400.0</td>\n",
       "      <td>2.0</td>\n",
       "      <td>2.0</td>\n",
       "      <td>Alaknanda</td>\n",
       "      <td>2.0</td>\n",
       "      <td>14000000.0</td>\n",
       "    </tr>\n",
       "    <tr>\n",
       "      <th>3</th>\n",
       "      <td>1320.0</td>\n",
       "      <td>3.0</td>\n",
       "      <td>2.0</td>\n",
       "      <td>Alaknanda</td>\n",
       "      <td>2.0</td>\n",
       "      <td>15600000.0</td>\n",
       "    </tr>\n",
       "    <tr>\n",
       "      <th>4</th>\n",
       "      <td>1100.0</td>\n",
       "      <td>2.0</td>\n",
       "      <td>2.0</td>\n",
       "      <td>Alaknanda</td>\n",
       "      <td>2.0</td>\n",
       "      <td>15000000.0</td>\n",
       "    </tr>\n",
       "  </tbody>\n",
       "</table>\n",
       "</div>"
      ],
      "text/plain": [
       "     Area  BHK  Bathroom     Region  Parking       Price\n",
       "0  1100.0  2.0       2.0  Alaknanda      2.0  15000000.0\n",
       "1  1200.0  2.0       2.0  Alaknanda      2.0  17500000.0\n",
       "2  1400.0  2.0       2.0  Alaknanda      2.0  14000000.0\n",
       "3  1320.0  3.0       2.0  Alaknanda      2.0  15600000.0\n",
       "4  1100.0  2.0       2.0  Alaknanda      2.0  15000000.0"
      ]
     },
     "execution_count": 44,
     "metadata": {},
     "output_type": "execute_result"
    }
   ],
   "source": [
    "data.head()"
   ]
  },
  {
   "cell_type": "code",
   "execution_count": 14,
   "id": "2c93c19b",
   "metadata": {},
   "outputs": [
    {
     "data": {
      "text/html": [
       "<div>\n",
       "<style scoped>\n",
       "    .dataframe tbody tr th:only-of-type {\n",
       "        vertical-align: middle;\n",
       "    }\n",
       "\n",
       "    .dataframe tbody tr th {\n",
       "        vertical-align: top;\n",
       "    }\n",
       "\n",
       "    .dataframe thead th {\n",
       "        text-align: right;\n",
       "    }\n",
       "</style>\n",
       "<table border=\"1\" class=\"dataframe\">\n",
       "  <thead>\n",
       "    <tr style=\"text-align: right;\">\n",
       "      <th></th>\n",
       "      <th>Area</th>\n",
       "      <th>BHK</th>\n",
       "      <th>Bathroom</th>\n",
       "      <th>Region</th>\n",
       "      <th>Parking</th>\n",
       "      <th>Price</th>\n",
       "      <th>Per_Sqft</th>\n",
       "    </tr>\n",
       "  </thead>\n",
       "  <tbody>\n",
       "    <tr>\n",
       "      <th>648</th>\n",
       "      <td>4900.0</td>\n",
       "      <td>1</td>\n",
       "      <td>1.0</td>\n",
       "      <td>Narela</td>\n",
       "      <td>1.0</td>\n",
       "      <td>1000000</td>\n",
       "      <td>5051.0</td>\n",
       "    </tr>\n",
       "  </tbody>\n",
       "</table>\n",
       "</div>"
      ],
      "text/plain": [
       "       Area  BHK  Bathroom  Region  Parking    Price  Per_Sqft\n",
       "648  4900.0    1       1.0  Narela      1.0  1000000    5051.0"
      ]
     },
     "execution_count": 14,
     "metadata": {},
     "output_type": "execute_result"
    }
   ],
   "source": [
    "data[(data.Price/data.Area  <300)]"
   ]
  },
  {
   "cell_type": "code",
   "execution_count": 15,
   "id": "f0cec459",
   "metadata": {},
   "outputs": [],
   "source": [
    "data.drop(data[data['Per_Sqft'] <= 3000].index, inplace = True)"
   ]
  },
  {
   "cell_type": "code",
   "execution_count": 16,
   "id": "35572221",
   "metadata": {},
   "outputs": [],
   "source": [
    "data.drop([\"Per_Sqft\"], axis=1, inplace=True)"
   ]
  },
  {
   "cell_type": "code",
   "execution_count": 17,
   "id": "17e68ca2",
   "metadata": {},
   "outputs": [
    {
     "data": {
      "text/plain": [
       "(1177, 6)"
      ]
     },
     "execution_count": 17,
     "metadata": {},
     "output_type": "execute_result"
    }
   ],
   "source": [
    "data.shape"
   ]
  },
  {
   "cell_type": "code",
   "execution_count": 18,
   "id": "8453727f",
   "metadata": {},
   "outputs": [],
   "source": [
    "data.drop(data[data['BHK'] >= 5].index, inplace = True)"
   ]
  },
  {
   "cell_type": "code",
   "execution_count": 19,
   "id": "4e61bbaf",
   "metadata": {},
   "outputs": [
    {
     "data": {
      "text/plain": [
       "(1177, 6)"
      ]
     },
     "execution_count": 19,
     "metadata": {},
     "output_type": "execute_result"
    }
   ],
   "source": [
    "data.shape"
   ]
  },
  {
   "cell_type": "code",
   "execution_count": 20,
   "id": "7284ed02",
   "metadata": {},
   "outputs": [],
   "source": [
    "data.drop(data[data['Bathroom'] >= 6].index, inplace = True)"
   ]
  },
  {
   "cell_type": "code",
   "execution_count": 21,
   "id": "485cbc3f",
   "metadata": {},
   "outputs": [
    {
     "data": {
      "text/plain": [
       "(1177, 6)"
      ]
     },
     "execution_count": 21,
     "metadata": {},
     "output_type": "execute_result"
    }
   ],
   "source": [
    "data.shape"
   ]
  },
  {
   "cell_type": "code",
   "execution_count": 22,
   "id": "bdd3df26",
   "metadata": {},
   "outputs": [],
   "source": [
    "data.drop(data[data['Parking'] >= 6].index, inplace = True)"
   ]
  },
  {
   "cell_type": "code",
   "execution_count": 23,
   "id": "001a7816",
   "metadata": {},
   "outputs": [
    {
     "data": {
      "text/plain": [
       "(1166, 6)"
      ]
     },
     "execution_count": 23,
     "metadata": {},
     "output_type": "execute_result"
    }
   ],
   "source": [
    "data.shape"
   ]
  },
  {
   "cell_type": "code",
   "execution_count": 24,
   "id": "ddf65902",
   "metadata": {},
   "outputs": [
    {
     "data": {
      "text/html": [
       "<div>\n",
       "<style scoped>\n",
       "    .dataframe tbody tr th:only-of-type {\n",
       "        vertical-align: middle;\n",
       "    }\n",
       "\n",
       "    .dataframe tbody tr th {\n",
       "        vertical-align: top;\n",
       "    }\n",
       "\n",
       "    .dataframe thead th {\n",
       "        text-align: right;\n",
       "    }\n",
       "</style>\n",
       "<table border=\"1\" class=\"dataframe\">\n",
       "  <thead>\n",
       "    <tr style=\"text-align: right;\">\n",
       "      <th></th>\n",
       "      <th>Area</th>\n",
       "      <th>BHK</th>\n",
       "      <th>Bathroom</th>\n",
       "      <th>Region</th>\n",
       "      <th>Parking</th>\n",
       "      <th>Price</th>\n",
       "    </tr>\n",
       "  </thead>\n",
       "  <tbody>\n",
       "    <tr>\n",
       "      <th>0</th>\n",
       "      <td>1100.0</td>\n",
       "      <td>2</td>\n",
       "      <td>2.0</td>\n",
       "      <td>Alaknanda</td>\n",
       "      <td>2.0</td>\n",
       "      <td>15000000</td>\n",
       "    </tr>\n",
       "    <tr>\n",
       "      <th>1</th>\n",
       "      <td>1200.0</td>\n",
       "      <td>2</td>\n",
       "      <td>2.0</td>\n",
       "      <td>Alaknanda</td>\n",
       "      <td>2.0</td>\n",
       "      <td>17500000</td>\n",
       "    </tr>\n",
       "    <tr>\n",
       "      <th>2</th>\n",
       "      <td>1400.0</td>\n",
       "      <td>2</td>\n",
       "      <td>2.0</td>\n",
       "      <td>Alaknanda</td>\n",
       "      <td>2.0</td>\n",
       "      <td>14000000</td>\n",
       "    </tr>\n",
       "    <tr>\n",
       "      <th>3</th>\n",
       "      <td>1320.0</td>\n",
       "      <td>3</td>\n",
       "      <td>2.0</td>\n",
       "      <td>Alaknanda</td>\n",
       "      <td>2.0</td>\n",
       "      <td>15600000</td>\n",
       "    </tr>\n",
       "    <tr>\n",
       "      <th>4</th>\n",
       "      <td>1100.0</td>\n",
       "      <td>2</td>\n",
       "      <td>2.0</td>\n",
       "      <td>Alaknanda</td>\n",
       "      <td>2.0</td>\n",
       "      <td>15000000</td>\n",
       "    </tr>\n",
       "  </tbody>\n",
       "</table>\n",
       "</div>"
      ],
      "text/plain": [
       "     Area  BHK  Bathroom     Region  Parking     Price\n",
       "0  1100.0    2       2.0  Alaknanda      2.0  15000000\n",
       "1  1200.0    2       2.0  Alaknanda      2.0  17500000\n",
       "2  1400.0    2       2.0  Alaknanda      2.0  14000000\n",
       "3  1320.0    3       2.0  Alaknanda      2.0  15600000\n",
       "4  1100.0    2       2.0  Alaknanda      2.0  15000000"
      ]
     },
     "execution_count": 24,
     "metadata": {},
     "output_type": "execute_result"
    }
   ],
   "source": [
    "data.head()"
   ]
  },
  {
   "cell_type": "code",
   "execution_count": 25,
   "id": "cecfa981",
   "metadata": {},
   "outputs": [
    {
     "data": {
      "text/plain": [
       "Area        0\n",
       "BHK         0\n",
       "Bathroom    0\n",
       "Region      0\n",
       "Parking     0\n",
       "Price       0\n",
       "dtype: int64"
      ]
     },
     "execution_count": 25,
     "metadata": {},
     "output_type": "execute_result"
    }
   ],
   "source": [
    "data.isnull().sum()"
   ]
  },
  {
   "cell_type": "code",
   "execution_count": 26,
   "id": "202a58fb",
   "metadata": {},
   "outputs": [
    {
     "data": {
      "text/plain": [
       "Area        float64\n",
       "BHK           int64\n",
       "Bathroom    float64\n",
       "Region       object\n",
       "Parking     float64\n",
       "Price         int64\n",
       "dtype: object"
      ]
     },
     "execution_count": 26,
     "metadata": {},
     "output_type": "execute_result"
    }
   ],
   "source": [
    "data.dtypes"
   ]
  },
  {
   "cell_type": "code",
   "execution_count": 27,
   "id": "bfc45f03",
   "metadata": {},
   "outputs": [],
   "source": [
    "data['BHK'] = data['BHK'].astype(float)\n",
    "data['Price'] = data['Price'].astype(float)"
   ]
  },
  {
   "cell_type": "code",
   "execution_count": 28,
   "id": "e75a4739",
   "metadata": {},
   "outputs": [
    {
     "data": {
      "text/plain": [
       "array(['Alaknanda', 'Chhattarpur', 'Dishad Garden', 'Dwarka',\n",
       "       'Geeta Colony', 'Greater Kailash', 'Hauz Khas', 'Kalkaji',\n",
       "       'Karol Bagh', 'Lajpat Nagar', 'Laxmi Nagar', 'Manglapuri',\n",
       "       'Mehrauli', 'Moti Nagar', 'Narela', 'New Friends Colony', 'Okhla',\n",
       "       'Patel Nagar', 'Punjabi Bagh', 'Rohini', 'Safdarjung', 'Saket',\n",
       "       'Sarita Vihar', 'Shahdara', 'Uttam Nagar', 'Vasant Kunj',\n",
       "       'Vasundhara'], dtype=object)"
      ]
     },
     "execution_count": 28,
     "metadata": {},
     "output_type": "execute_result"
    }
   ],
   "source": [
    "data.Region.unique()"
   ]
  },
  {
   "cell_type": "code",
   "execution_count": 29,
   "id": "c2855cf6",
   "metadata": {},
   "outputs": [],
   "source": [
    "dummies = pd.get_dummies(data.Region,dtype=float)"
   ]
  },
  {
   "cell_type": "code",
   "execution_count": 30,
   "id": "7c4c68bd",
   "metadata": {
    "scrolled": true
   },
   "outputs": [
    {
     "data": {
      "text/html": [
       "<div>\n",
       "<style scoped>\n",
       "    .dataframe tbody tr th:only-of-type {\n",
       "        vertical-align: middle;\n",
       "    }\n",
       "\n",
       "    .dataframe tbody tr th {\n",
       "        vertical-align: top;\n",
       "    }\n",
       "\n",
       "    .dataframe thead th {\n",
       "        text-align: right;\n",
       "    }\n",
       "</style>\n",
       "<table border=\"1\" class=\"dataframe\">\n",
       "  <thead>\n",
       "    <tr style=\"text-align: right;\">\n",
       "      <th></th>\n",
       "      <th>Alaknanda</th>\n",
       "      <th>Chhattarpur</th>\n",
       "      <th>Dishad Garden</th>\n",
       "      <th>Dwarka</th>\n",
       "      <th>Geeta Colony</th>\n",
       "      <th>Greater Kailash</th>\n",
       "      <th>Hauz Khas</th>\n",
       "      <th>Kalkaji</th>\n",
       "      <th>Karol Bagh</th>\n",
       "      <th>Lajpat Nagar</th>\n",
       "      <th>...</th>\n",
       "      <th>Patel Nagar</th>\n",
       "      <th>Punjabi Bagh</th>\n",
       "      <th>Rohini</th>\n",
       "      <th>Safdarjung</th>\n",
       "      <th>Saket</th>\n",
       "      <th>Sarita Vihar</th>\n",
       "      <th>Shahdara</th>\n",
       "      <th>Uttam Nagar</th>\n",
       "      <th>Vasant Kunj</th>\n",
       "      <th>Vasundhara</th>\n",
       "    </tr>\n",
       "  </thead>\n",
       "  <tbody>\n",
       "    <tr>\n",
       "      <th>0</th>\n",
       "      <td>1.0</td>\n",
       "      <td>0.0</td>\n",
       "      <td>0.0</td>\n",
       "      <td>0.0</td>\n",
       "      <td>0.0</td>\n",
       "      <td>0.0</td>\n",
       "      <td>0.0</td>\n",
       "      <td>0.0</td>\n",
       "      <td>0.0</td>\n",
       "      <td>0.0</td>\n",
       "      <td>...</td>\n",
       "      <td>0.0</td>\n",
       "      <td>0.0</td>\n",
       "      <td>0.0</td>\n",
       "      <td>0.0</td>\n",
       "      <td>0.0</td>\n",
       "      <td>0.0</td>\n",
       "      <td>0.0</td>\n",
       "      <td>0.0</td>\n",
       "      <td>0.0</td>\n",
       "      <td>0.0</td>\n",
       "    </tr>\n",
       "    <tr>\n",
       "      <th>1</th>\n",
       "      <td>1.0</td>\n",
       "      <td>0.0</td>\n",
       "      <td>0.0</td>\n",
       "      <td>0.0</td>\n",
       "      <td>0.0</td>\n",
       "      <td>0.0</td>\n",
       "      <td>0.0</td>\n",
       "      <td>0.0</td>\n",
       "      <td>0.0</td>\n",
       "      <td>0.0</td>\n",
       "      <td>...</td>\n",
       "      <td>0.0</td>\n",
       "      <td>0.0</td>\n",
       "      <td>0.0</td>\n",
       "      <td>0.0</td>\n",
       "      <td>0.0</td>\n",
       "      <td>0.0</td>\n",
       "      <td>0.0</td>\n",
       "      <td>0.0</td>\n",
       "      <td>0.0</td>\n",
       "      <td>0.0</td>\n",
       "    </tr>\n",
       "    <tr>\n",
       "      <th>2</th>\n",
       "      <td>1.0</td>\n",
       "      <td>0.0</td>\n",
       "      <td>0.0</td>\n",
       "      <td>0.0</td>\n",
       "      <td>0.0</td>\n",
       "      <td>0.0</td>\n",
       "      <td>0.0</td>\n",
       "      <td>0.0</td>\n",
       "      <td>0.0</td>\n",
       "      <td>0.0</td>\n",
       "      <td>...</td>\n",
       "      <td>0.0</td>\n",
       "      <td>0.0</td>\n",
       "      <td>0.0</td>\n",
       "      <td>0.0</td>\n",
       "      <td>0.0</td>\n",
       "      <td>0.0</td>\n",
       "      <td>0.0</td>\n",
       "      <td>0.0</td>\n",
       "      <td>0.0</td>\n",
       "      <td>0.0</td>\n",
       "    </tr>\n",
       "    <tr>\n",
       "      <th>3</th>\n",
       "      <td>1.0</td>\n",
       "      <td>0.0</td>\n",
       "      <td>0.0</td>\n",
       "      <td>0.0</td>\n",
       "      <td>0.0</td>\n",
       "      <td>0.0</td>\n",
       "      <td>0.0</td>\n",
       "      <td>0.0</td>\n",
       "      <td>0.0</td>\n",
       "      <td>0.0</td>\n",
       "      <td>...</td>\n",
       "      <td>0.0</td>\n",
       "      <td>0.0</td>\n",
       "      <td>0.0</td>\n",
       "      <td>0.0</td>\n",
       "      <td>0.0</td>\n",
       "      <td>0.0</td>\n",
       "      <td>0.0</td>\n",
       "      <td>0.0</td>\n",
       "      <td>0.0</td>\n",
       "      <td>0.0</td>\n",
       "    </tr>\n",
       "    <tr>\n",
       "      <th>4</th>\n",
       "      <td>1.0</td>\n",
       "      <td>0.0</td>\n",
       "      <td>0.0</td>\n",
       "      <td>0.0</td>\n",
       "      <td>0.0</td>\n",
       "      <td>0.0</td>\n",
       "      <td>0.0</td>\n",
       "      <td>0.0</td>\n",
       "      <td>0.0</td>\n",
       "      <td>0.0</td>\n",
       "      <td>...</td>\n",
       "      <td>0.0</td>\n",
       "      <td>0.0</td>\n",
       "      <td>0.0</td>\n",
       "      <td>0.0</td>\n",
       "      <td>0.0</td>\n",
       "      <td>0.0</td>\n",
       "      <td>0.0</td>\n",
       "      <td>0.0</td>\n",
       "      <td>0.0</td>\n",
       "      <td>0.0</td>\n",
       "    </tr>\n",
       "  </tbody>\n",
       "</table>\n",
       "<p>5 rows × 27 columns</p>\n",
       "</div>"
      ],
      "text/plain": [
       "   Alaknanda  Chhattarpur  Dishad Garden  Dwarka  Geeta Colony  \\\n",
       "0        1.0          0.0            0.0     0.0           0.0   \n",
       "1        1.0          0.0            0.0     0.0           0.0   \n",
       "2        1.0          0.0            0.0     0.0           0.0   \n",
       "3        1.0          0.0            0.0     0.0           0.0   \n",
       "4        1.0          0.0            0.0     0.0           0.0   \n",
       "\n",
       "   Greater Kailash  Hauz Khas  Kalkaji  Karol Bagh  Lajpat Nagar  ...  \\\n",
       "0              0.0        0.0      0.0         0.0           0.0  ...   \n",
       "1              0.0        0.0      0.0         0.0           0.0  ...   \n",
       "2              0.0        0.0      0.0         0.0           0.0  ...   \n",
       "3              0.0        0.0      0.0         0.0           0.0  ...   \n",
       "4              0.0        0.0      0.0         0.0           0.0  ...   \n",
       "\n",
       "   Patel Nagar  Punjabi Bagh  Rohini  Safdarjung  Saket  Sarita Vihar  \\\n",
       "0          0.0           0.0     0.0         0.0    0.0           0.0   \n",
       "1          0.0           0.0     0.0         0.0    0.0           0.0   \n",
       "2          0.0           0.0     0.0         0.0    0.0           0.0   \n",
       "3          0.0           0.0     0.0         0.0    0.0           0.0   \n",
       "4          0.0           0.0     0.0         0.0    0.0           0.0   \n",
       "\n",
       "   Shahdara  Uttam Nagar  Vasant Kunj  Vasundhara  \n",
       "0       0.0          0.0          0.0         0.0  \n",
       "1       0.0          0.0          0.0         0.0  \n",
       "2       0.0          0.0          0.0         0.0  \n",
       "3       0.0          0.0          0.0         0.0  \n",
       "4       0.0          0.0          0.0         0.0  \n",
       "\n",
       "[5 rows x 27 columns]"
      ]
     },
     "execution_count": 30,
     "metadata": {},
     "output_type": "execute_result"
    }
   ],
   "source": [
    "dummies.head()"
   ]
  },
  {
   "cell_type": "code",
   "execution_count": 31,
   "id": "76b2e47d",
   "metadata": {},
   "outputs": [
    {
     "data": {
      "text/html": [
       "<div>\n",
       "<style scoped>\n",
       "    .dataframe tbody tr th:only-of-type {\n",
       "        vertical-align: middle;\n",
       "    }\n",
       "\n",
       "    .dataframe tbody tr th {\n",
       "        vertical-align: top;\n",
       "    }\n",
       "\n",
       "    .dataframe thead th {\n",
       "        text-align: right;\n",
       "    }\n",
       "</style>\n",
       "<table border=\"1\" class=\"dataframe\">\n",
       "  <thead>\n",
       "    <tr style=\"text-align: right;\">\n",
       "      <th></th>\n",
       "      <th>Area</th>\n",
       "      <th>BHK</th>\n",
       "      <th>Bathroom</th>\n",
       "      <th>Region</th>\n",
       "      <th>Parking</th>\n",
       "      <th>Price</th>\n",
       "      <th>Alaknanda</th>\n",
       "      <th>Chhattarpur</th>\n",
       "      <th>Dishad Garden</th>\n",
       "      <th>Dwarka</th>\n",
       "      <th>...</th>\n",
       "      <th>Patel Nagar</th>\n",
       "      <th>Punjabi Bagh</th>\n",
       "      <th>Rohini</th>\n",
       "      <th>Safdarjung</th>\n",
       "      <th>Saket</th>\n",
       "      <th>Sarita Vihar</th>\n",
       "      <th>Shahdara</th>\n",
       "      <th>Uttam Nagar</th>\n",
       "      <th>Vasant Kunj</th>\n",
       "      <th>Vasundhara</th>\n",
       "    </tr>\n",
       "  </thead>\n",
       "  <tbody>\n",
       "    <tr>\n",
       "      <th>0</th>\n",
       "      <td>1100.0</td>\n",
       "      <td>2.0</td>\n",
       "      <td>2.0</td>\n",
       "      <td>Alaknanda</td>\n",
       "      <td>2.0</td>\n",
       "      <td>15000000.0</td>\n",
       "      <td>1.0</td>\n",
       "      <td>0.0</td>\n",
       "      <td>0.0</td>\n",
       "      <td>0.0</td>\n",
       "      <td>...</td>\n",
       "      <td>0.0</td>\n",
       "      <td>0.0</td>\n",
       "      <td>0.0</td>\n",
       "      <td>0.0</td>\n",
       "      <td>0.0</td>\n",
       "      <td>0.0</td>\n",
       "      <td>0.0</td>\n",
       "      <td>0.0</td>\n",
       "      <td>0.0</td>\n",
       "      <td>0.0</td>\n",
       "    </tr>\n",
       "    <tr>\n",
       "      <th>1</th>\n",
       "      <td>1200.0</td>\n",
       "      <td>2.0</td>\n",
       "      <td>2.0</td>\n",
       "      <td>Alaknanda</td>\n",
       "      <td>2.0</td>\n",
       "      <td>17500000.0</td>\n",
       "      <td>1.0</td>\n",
       "      <td>0.0</td>\n",
       "      <td>0.0</td>\n",
       "      <td>0.0</td>\n",
       "      <td>...</td>\n",
       "      <td>0.0</td>\n",
       "      <td>0.0</td>\n",
       "      <td>0.0</td>\n",
       "      <td>0.0</td>\n",
       "      <td>0.0</td>\n",
       "      <td>0.0</td>\n",
       "      <td>0.0</td>\n",
       "      <td>0.0</td>\n",
       "      <td>0.0</td>\n",
       "      <td>0.0</td>\n",
       "    </tr>\n",
       "  </tbody>\n",
       "</table>\n",
       "<p>2 rows × 33 columns</p>\n",
       "</div>"
      ],
      "text/plain": [
       "     Area  BHK  Bathroom     Region  Parking       Price  Alaknanda  \\\n",
       "0  1100.0  2.0       2.0  Alaknanda      2.0  15000000.0        1.0   \n",
       "1  1200.0  2.0       2.0  Alaknanda      2.0  17500000.0        1.0   \n",
       "\n",
       "   Chhattarpur  Dishad Garden  Dwarka  ...  Patel Nagar  Punjabi Bagh  Rohini  \\\n",
       "0          0.0            0.0     0.0  ...          0.0           0.0     0.0   \n",
       "1          0.0            0.0     0.0  ...          0.0           0.0     0.0   \n",
       "\n",
       "   Safdarjung  Saket  Sarita Vihar  Shahdara  Uttam Nagar  Vasant Kunj  \\\n",
       "0         0.0    0.0           0.0       0.0          0.0          0.0   \n",
       "1         0.0    0.0           0.0       0.0          0.0          0.0   \n",
       "\n",
       "   Vasundhara  \n",
       "0         0.0  \n",
       "1         0.0  \n",
       "\n",
       "[2 rows x 33 columns]"
      ]
     },
     "execution_count": 31,
     "metadata": {},
     "output_type": "execute_result"
    }
   ],
   "source": [
    "Data = pd.concat([data, dummies], axis= 1)\n",
    "Data.head(2)"
   ]
  },
  {
   "cell_type": "code",
   "execution_count": 32,
   "id": "29eee0de",
   "metadata": {},
   "outputs": [],
   "source": [
    "Data.drop([\"Region\"], axis=1, inplace=True)"
   ]
  },
  {
   "cell_type": "code",
   "execution_count": 46,
   "id": "03a8207a",
   "metadata": {},
   "outputs": [
    {
     "data": {
      "text/html": [
       "<div>\n",
       "<style scoped>\n",
       "    .dataframe tbody tr th:only-of-type {\n",
       "        vertical-align: middle;\n",
       "    }\n",
       "\n",
       "    .dataframe tbody tr th {\n",
       "        vertical-align: top;\n",
       "    }\n",
       "\n",
       "    .dataframe thead th {\n",
       "        text-align: right;\n",
       "    }\n",
       "</style>\n",
       "<table border=\"1\" class=\"dataframe\">\n",
       "  <thead>\n",
       "    <tr style=\"text-align: right;\">\n",
       "      <th></th>\n",
       "      <th>Area</th>\n",
       "      <th>BHK</th>\n",
       "      <th>Bathroom</th>\n",
       "      <th>Parking</th>\n",
       "      <th>Price</th>\n",
       "      <th>Alaknanda</th>\n",
       "      <th>Chhattarpur</th>\n",
       "      <th>Dishad Garden</th>\n",
       "      <th>Dwarka</th>\n",
       "      <th>Geeta Colony</th>\n",
       "      <th>...</th>\n",
       "      <th>Patel Nagar</th>\n",
       "      <th>Punjabi Bagh</th>\n",
       "      <th>Rohini</th>\n",
       "      <th>Safdarjung</th>\n",
       "      <th>Saket</th>\n",
       "      <th>Sarita Vihar</th>\n",
       "      <th>Shahdara</th>\n",
       "      <th>Uttam Nagar</th>\n",
       "      <th>Vasant Kunj</th>\n",
       "      <th>Vasundhara</th>\n",
       "    </tr>\n",
       "  </thead>\n",
       "  <tbody>\n",
       "    <tr>\n",
       "      <th>count</th>\n",
       "      <td>1166.000000</td>\n",
       "      <td>1166.000000</td>\n",
       "      <td>1166.000000</td>\n",
       "      <td>1166.000000</td>\n",
       "      <td>1.166000e+03</td>\n",
       "      <td>1166.000000</td>\n",
       "      <td>1166.000000</td>\n",
       "      <td>1166.000000</td>\n",
       "      <td>1166.000000</td>\n",
       "      <td>1166.000000</td>\n",
       "      <td>...</td>\n",
       "      <td>1166.000000</td>\n",
       "      <td>1166.000000</td>\n",
       "      <td>1166.000000</td>\n",
       "      <td>1166.000000</td>\n",
       "      <td>1166.000000</td>\n",
       "      <td>1166.000000</td>\n",
       "      <td>1166.000000</td>\n",
       "      <td>1166.000000</td>\n",
       "      <td>1166.000000</td>\n",
       "      <td>1166.000000</td>\n",
       "    </tr>\n",
       "    <tr>\n",
       "      <th>mean</th>\n",
       "      <td>1421.819545</td>\n",
       "      <td>2.746141</td>\n",
       "      <td>2.518868</td>\n",
       "      <td>1.420240</td>\n",
       "      <td>1.989434e+07</td>\n",
       "      <td>0.046312</td>\n",
       "      <td>0.024014</td>\n",
       "      <td>0.022298</td>\n",
       "      <td>0.072899</td>\n",
       "      <td>0.056604</td>\n",
       "      <td>...</td>\n",
       "      <td>0.018868</td>\n",
       "      <td>0.024871</td>\n",
       "      <td>0.109777</td>\n",
       "      <td>0.027444</td>\n",
       "      <td>0.074614</td>\n",
       "      <td>0.023156</td>\n",
       "      <td>0.050600</td>\n",
       "      <td>0.022298</td>\n",
       "      <td>0.030017</td>\n",
       "      <td>0.021441</td>\n",
       "    </tr>\n",
       "    <tr>\n",
       "      <th>std</th>\n",
       "      <td>1538.122793</td>\n",
       "      <td>0.834275</td>\n",
       "      <td>0.950755</td>\n",
       "      <td>0.680874</td>\n",
       "      <td>2.185259e+07</td>\n",
       "      <td>0.210250</td>\n",
       "      <td>0.153157</td>\n",
       "      <td>0.147716</td>\n",
       "      <td>0.260082</td>\n",
       "      <td>0.231183</td>\n",
       "      <td>...</td>\n",
       "      <td>0.136117</td>\n",
       "      <td>0.155800</td>\n",
       "      <td>0.312746</td>\n",
       "      <td>0.163444</td>\n",
       "      <td>0.262880</td>\n",
       "      <td>0.150464</td>\n",
       "      <td>0.219274</td>\n",
       "      <td>0.147716</td>\n",
       "      <td>0.170708</td>\n",
       "      <td>0.144911</td>\n",
       "    </tr>\n",
       "    <tr>\n",
       "      <th>min</th>\n",
       "      <td>28.000000</td>\n",
       "      <td>1.000000</td>\n",
       "      <td>1.000000</td>\n",
       "      <td>1.000000</td>\n",
       "      <td>1.000000e+06</td>\n",
       "      <td>0.000000</td>\n",
       "      <td>0.000000</td>\n",
       "      <td>0.000000</td>\n",
       "      <td>0.000000</td>\n",
       "      <td>0.000000</td>\n",
       "      <td>...</td>\n",
       "      <td>0.000000</td>\n",
       "      <td>0.000000</td>\n",
       "      <td>0.000000</td>\n",
       "      <td>0.000000</td>\n",
       "      <td>0.000000</td>\n",
       "      <td>0.000000</td>\n",
       "      <td>0.000000</td>\n",
       "      <td>0.000000</td>\n",
       "      <td>0.000000</td>\n",
       "      <td>0.000000</td>\n",
       "    </tr>\n",
       "    <tr>\n",
       "      <th>25%</th>\n",
       "      <td>810.000000</td>\n",
       "      <td>2.000000</td>\n",
       "      <td>2.000000</td>\n",
       "      <td>1.000000</td>\n",
       "      <td>5.800000e+06</td>\n",
       "      <td>0.000000</td>\n",
       "      <td>0.000000</td>\n",
       "      <td>0.000000</td>\n",
       "      <td>0.000000</td>\n",
       "      <td>0.000000</td>\n",
       "      <td>...</td>\n",
       "      <td>0.000000</td>\n",
       "      <td>0.000000</td>\n",
       "      <td>0.000000</td>\n",
       "      <td>0.000000</td>\n",
       "      <td>0.000000</td>\n",
       "      <td>0.000000</td>\n",
       "      <td>0.000000</td>\n",
       "      <td>0.000000</td>\n",
       "      <td>0.000000</td>\n",
       "      <td>0.000000</td>\n",
       "    </tr>\n",
       "    <tr>\n",
       "      <th>50%</th>\n",
       "      <td>1200.000000</td>\n",
       "      <td>3.000000</td>\n",
       "      <td>2.000000</td>\n",
       "      <td>1.000000</td>\n",
       "      <td>1.420000e+07</td>\n",
       "      <td>0.000000</td>\n",
       "      <td>0.000000</td>\n",
       "      <td>0.000000</td>\n",
       "      <td>0.000000</td>\n",
       "      <td>0.000000</td>\n",
       "      <td>...</td>\n",
       "      <td>0.000000</td>\n",
       "      <td>0.000000</td>\n",
       "      <td>0.000000</td>\n",
       "      <td>0.000000</td>\n",
       "      <td>0.000000</td>\n",
       "      <td>0.000000</td>\n",
       "      <td>0.000000</td>\n",
       "      <td>0.000000</td>\n",
       "      <td>0.000000</td>\n",
       "      <td>0.000000</td>\n",
       "    </tr>\n",
       "    <tr>\n",
       "      <th>75%</th>\n",
       "      <td>1635.000000</td>\n",
       "      <td>3.000000</td>\n",
       "      <td>3.000000</td>\n",
       "      <td>2.000000</td>\n",
       "      <td>2.500000e+07</td>\n",
       "      <td>0.000000</td>\n",
       "      <td>0.000000</td>\n",
       "      <td>0.000000</td>\n",
       "      <td>0.000000</td>\n",
       "      <td>0.000000</td>\n",
       "      <td>...</td>\n",
       "      <td>0.000000</td>\n",
       "      <td>0.000000</td>\n",
       "      <td>0.000000</td>\n",
       "      <td>0.000000</td>\n",
       "      <td>0.000000</td>\n",
       "      <td>0.000000</td>\n",
       "      <td>0.000000</td>\n",
       "      <td>0.000000</td>\n",
       "      <td>0.000000</td>\n",
       "      <td>0.000000</td>\n",
       "    </tr>\n",
       "    <tr>\n",
       "      <th>max</th>\n",
       "      <td>24300.000000</td>\n",
       "      <td>4.000000</td>\n",
       "      <td>5.000000</td>\n",
       "      <td>5.000000</td>\n",
       "      <td>2.400000e+08</td>\n",
       "      <td>1.000000</td>\n",
       "      <td>1.000000</td>\n",
       "      <td>1.000000</td>\n",
       "      <td>1.000000</td>\n",
       "      <td>1.000000</td>\n",
       "      <td>...</td>\n",
       "      <td>1.000000</td>\n",
       "      <td>1.000000</td>\n",
       "      <td>1.000000</td>\n",
       "      <td>1.000000</td>\n",
       "      <td>1.000000</td>\n",
       "      <td>1.000000</td>\n",
       "      <td>1.000000</td>\n",
       "      <td>1.000000</td>\n",
       "      <td>1.000000</td>\n",
       "      <td>1.000000</td>\n",
       "    </tr>\n",
       "  </tbody>\n",
       "</table>\n",
       "<p>8 rows × 32 columns</p>\n",
       "</div>"
      ],
      "text/plain": [
       "               Area          BHK     Bathroom      Parking         Price  \\\n",
       "count   1166.000000  1166.000000  1166.000000  1166.000000  1.166000e+03   \n",
       "mean    1421.819545     2.746141     2.518868     1.420240  1.989434e+07   \n",
       "std     1538.122793     0.834275     0.950755     0.680874  2.185259e+07   \n",
       "min       28.000000     1.000000     1.000000     1.000000  1.000000e+06   \n",
       "25%      810.000000     2.000000     2.000000     1.000000  5.800000e+06   \n",
       "50%     1200.000000     3.000000     2.000000     1.000000  1.420000e+07   \n",
       "75%     1635.000000     3.000000     3.000000     2.000000  2.500000e+07   \n",
       "max    24300.000000     4.000000     5.000000     5.000000  2.400000e+08   \n",
       "\n",
       "         Alaknanda  Chhattarpur  Dishad Garden       Dwarka  Geeta Colony  \\\n",
       "count  1166.000000  1166.000000    1166.000000  1166.000000   1166.000000   \n",
       "mean      0.046312     0.024014       0.022298     0.072899      0.056604   \n",
       "std       0.210250     0.153157       0.147716     0.260082      0.231183   \n",
       "min       0.000000     0.000000       0.000000     0.000000      0.000000   \n",
       "25%       0.000000     0.000000       0.000000     0.000000      0.000000   \n",
       "50%       0.000000     0.000000       0.000000     0.000000      0.000000   \n",
       "75%       0.000000     0.000000       0.000000     0.000000      0.000000   \n",
       "max       1.000000     1.000000       1.000000     1.000000      1.000000   \n",
       "\n",
       "       ...  Patel Nagar  Punjabi Bagh       Rohini   Safdarjung        Saket  \\\n",
       "count  ...  1166.000000   1166.000000  1166.000000  1166.000000  1166.000000   \n",
       "mean   ...     0.018868      0.024871     0.109777     0.027444     0.074614   \n",
       "std    ...     0.136117      0.155800     0.312746     0.163444     0.262880   \n",
       "min    ...     0.000000      0.000000     0.000000     0.000000     0.000000   \n",
       "25%    ...     0.000000      0.000000     0.000000     0.000000     0.000000   \n",
       "50%    ...     0.000000      0.000000     0.000000     0.000000     0.000000   \n",
       "75%    ...     0.000000      0.000000     0.000000     0.000000     0.000000   \n",
       "max    ...     1.000000      1.000000     1.000000     1.000000     1.000000   \n",
       "\n",
       "       Sarita Vihar     Shahdara  Uttam Nagar  Vasant Kunj   Vasundhara  \n",
       "count   1166.000000  1166.000000  1166.000000  1166.000000  1166.000000  \n",
       "mean       0.023156     0.050600     0.022298     0.030017     0.021441  \n",
       "std        0.150464     0.219274     0.147716     0.170708     0.144911  \n",
       "min        0.000000     0.000000     0.000000     0.000000     0.000000  \n",
       "25%        0.000000     0.000000     0.000000     0.000000     0.000000  \n",
       "50%        0.000000     0.000000     0.000000     0.000000     0.000000  \n",
       "75%        0.000000     0.000000     0.000000     0.000000     0.000000  \n",
       "max        1.000000     1.000000     1.000000     1.000000     1.000000  \n",
       "\n",
       "[8 rows x 32 columns]"
      ]
     },
     "execution_count": 46,
     "metadata": {},
     "output_type": "execute_result"
    }
   ],
   "source": [
    "Data.describe()"
   ]
  },
  {
   "cell_type": "code",
   "execution_count": 34,
   "id": "ef141e8c",
   "metadata": {},
   "outputs": [
    {
     "data": {
      "text/plain": [
       "Area                  0\n",
       "BHK                   0\n",
       "Bathroom              0\n",
       "Parking               0\n",
       "Price                 0\n",
       "Alaknanda             0\n",
       "Chhattarpur           0\n",
       "Dishad Garden         0\n",
       "Dwarka                0\n",
       "Geeta Colony          0\n",
       "Greater Kailash       0\n",
       "Hauz Khas             0\n",
       "Kalkaji               0\n",
       "Karol Bagh            0\n",
       "Lajpat Nagar          0\n",
       "Laxmi Nagar           0\n",
       "Manglapuri            0\n",
       "Mehrauli              0\n",
       "Moti Nagar            0\n",
       "Narela                0\n",
       "New Friends Colony    0\n",
       "Okhla                 0\n",
       "Patel Nagar           0\n",
       "Punjabi Bagh          0\n",
       "Rohini                0\n",
       "Safdarjung            0\n",
       "Saket                 0\n",
       "Sarita Vihar          0\n",
       "Shahdara              0\n",
       "Uttam Nagar           0\n",
       "Vasant Kunj           0\n",
       "Vasundhara            0\n",
       "dtype: int64"
      ]
     },
     "execution_count": 34,
     "metadata": {},
     "output_type": "execute_result"
    }
   ],
   "source": [
    "Data.isnull().sum()"
   ]
  },
  {
   "cell_type": "code",
   "execution_count": 35,
   "id": "3383caa3",
   "metadata": {},
   "outputs": [],
   "source": [
    "X =Data.drop(['Price'], axis=1)\n",
    "Y =Data['Price']"
   ]
  },
  {
   "cell_type": "code",
   "execution_count": 36,
   "id": "38127ef5",
   "metadata": {},
   "outputs": [],
   "source": [
    "from sklearn.model_selection import train_test_split\n",
    "X_train,X_test,Y_train, Y_test = train_test_split(X,Y,test_size= 0.2, random_state =10)"
   ]
  },
  {
   "cell_type": "code",
   "execution_count": 37,
   "id": "26358239",
   "metadata": {},
   "outputs": [],
   "source": [
    "from sklearn.ensemble import RandomForestRegressor\n",
    "model = RandomForestRegressor()\n",
    "model.fit(X_train.values, Y_train.values)\n",
    "Y_pred = model.predict(X_test.values)"
   ]
  },
  {
   "cell_type": "code",
   "execution_count": 38,
   "id": "29f3d0e1",
   "metadata": {},
   "outputs": [
    {
     "name": "stdout",
     "output_type": "stream",
     "text": [
      "Mean Absolute Error : 5150869.725319789\n"
     ]
    }
   ],
   "source": [
    "from sklearn.metrics import mean_absolute_error\n",
    "print(\"Mean Absolute Error :\", mean_absolute_error(Y_test, Y_pred))"
   ]
  },
  {
   "cell_type": "code",
   "execution_count": 39,
   "id": "aa3201f0",
   "metadata": {},
   "outputs": [],
   "source": [
    "def predict_price(location,sqft,bath,bhk,park):\n",
    "    loc_index = np.where(X.columns==location)[0][0]\n",
    "    \n",
    "    x= np.zeros(len(X.columns))\n",
    "    x[0] = sqft\n",
    "    x[1] = bath\n",
    "    x[2] = bhk\n",
    "    x[3] = park\n",
    "    if loc_index >= 0:\n",
    "        x[loc_index] =1\n",
    "        \n",
    "    return model.predict([x])[0]"
   ]
  },
  {
   "cell_type": "code",
   "execution_count": 40,
   "id": "a7bcbf91",
   "metadata": {},
   "outputs": [
    {
     "data": {
      "text/plain": [
       "28214166.666666664"
      ]
     },
     "execution_count": 40,
     "metadata": {},
     "output_type": "execute_result"
    }
   ],
   "source": [
    "predict_price('Rohini',2200,4,4,3)"
   ]
  },
  {
   "cell_type": "code",
   "execution_count": 41,
   "id": "0c53c60c",
   "metadata": {},
   "outputs": [],
   "source": [
    "import pickle\n",
    "pickle_out = open(\"model.pkl\", \"wb\")\n",
    "pickle.dump(model, pickle_out)\n",
    "pickle_out.close()"
   ]
  },
  {
   "cell_type": "code",
   "execution_count": 42,
   "id": "1997cfe1",
   "metadata": {},
   "outputs": [],
   "source": [
    "pickle_out = open(\"df.pkl\", \"wb\")\n",
    "pickle.dump(X, pickle_out)\n",
    "pickle_out.close()"
   ]
  },
  {
   "cell_type": "code",
   "execution_count": 52,
   "id": "a87c682e",
   "metadata": {},
   "outputs": [],
   "source": [
    "col = ['Alaknanda', 'Chhattarpur', 'Dishad Garden', 'Dwarka',\n",
    "       'Geeta Colony', 'Greater Kailash', 'Hauz Khas', 'Kalkaji',\n",
    "       'Karol Bagh', 'Lajpat Nagar', 'Laxmi Nagar', 'Manglapuri',\n",
    "       'Mehrauli', 'Moti Nagar', 'Narela', 'New Friends Colony', 'Okhla',\n",
    "       'Patel Nagar', 'Punjabi Bagh', 'Rohini', 'Safdarjung', 'Saket',\n",
    "       'Sarita Vihar', 'Shahdara', 'Uttam Nagar', 'Vasant Kunj',\n",
    "       'Vasundhara'] "
   ]
  },
  {
   "cell_type": "code",
   "execution_count": null,
   "id": "c44a3425",
   "metadata": {},
   "outputs": [],
   "source": []
  }
 ],
 "metadata": {
  "kernelspec": {
   "display_name": "Python 3 (ipykernel)",
   "language": "python",
   "name": "python3"
  },
  "language_info": {
   "codemirror_mode": {
    "name": "ipython",
    "version": 3
   },
   "file_extension": ".py",
   "mimetype": "text/x-python",
   "name": "python",
   "nbconvert_exporter": "python",
   "pygments_lexer": "ipython3",
   "version": "3.9.12"
  }
 },
 "nbformat": 4,
 "nbformat_minor": 5
}
